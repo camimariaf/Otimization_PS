{
  "nbformat": 4,
  "nbformat_minor": 0,
  "metadata": {
    "colab": {
      "provenance": [],
      "authorship_tag": "ABX9TyPRXNKTwCmYUuRe3FtZizEB",
      "include_colab_link": true
    },
    "kernelspec": {
      "name": "python3",
      "display_name": "Python 3"
    },
    "language_info": {
      "name": "python"
    }
  },
  "cells": [
    {
      "cell_type": "markdown",
      "metadata": {
        "id": "view-in-github",
        "colab_type": "text"
      },
      "source": [
        "<a href=\"https://colab.research.google.com/github/camimariaf/Otimization_PS/blob/main/Otimizacao_feito_em_sala.ipynb\" target=\"_parent\"><img src=\"https://colab.research.google.com/assets/colab-badge.svg\" alt=\"Open In Colab\"/></a>"
      ]
    },
    {
      "cell_type": "code",
      "execution_count": null,
      "metadata": {
        "id": "gS3nRO6mMjUq"
      },
      "outputs": [],
      "source": [
        "class Cliente:\n",
        "  def __init__(self, id_cliente, nome, idade, email, telefone, ponto_fidelidade, reservas):\n",
        "    self.nome = nome\n",
        "    self.id = id_cliente\n",
        "    self.idade = idade\n",
        "    self.email = email\n",
        "    self.telefone = telefone\n",
        "    self.ponto_fidelidade = 0\n",
        "    self.reservas = []\n",
        "\n",
        "  def adicionar_pontos(self, pontos):\n",
        "    self.ponto_fidelidade += pontos\n",
        "\n",
        "  def listar_reservas(self):\n",
        "    return self.reservas\n",
        "\n",
        "\n",
        "class Hotel:\n",
        "  def __init__(self, id_hotel, nome, localizacao, preco_diaria, disponibilidade):\n",
        "    self.id = id_hotel\n",
        "    self.nome = nome\n",
        "    self.localizacao = localizacao\n",
        "    self.preco_diaria = preco_diaria\n",
        "    self.disponibilidade = disponibilidade\n",
        "\n",
        "  def verificar_disponibilidade(self):\n",
        "    return self.disponibilidade > 0\n",
        "\n",
        "  def atualizar_preco(self, novo_preco):\n",
        "    self.preco_diaria = novo_preco\n",
        "\n",
        "\n",
        "class Reserva:\n",
        "  def __init__(self, id_reserva, cliente, hotel, dias, valor_total):\n",
        "    self.id = id_reserva\n",
        "    self.cliente = cliente\n",
        "    self.hotel = hotel\n",
        "    self.dias = dias\n",
        "    self.valor_total = self.calcular_valor()\n",
        "\n",
        "    # atualiza o valor\n",
        "    if self.hotel.verificar_disponibilidade():\n",
        "      self.hotel.disponibilidade -= 1\n",
        "      self.cliente.reservas.append(self)\n",
        "      self.cliente.adicionar_pontos(self.valor_total // 10) # 10% do valor vira pontos\n",
        "\n",
        "  def calcular_valor(self):\n",
        "    return self.dias * self.hotel.preco_diaria\n",
        "\n",
        "  def cancelar_reserva(self):\n",
        "    self.hotel.disponibilidade += 1\n",
        "    self.cliente.reservas.remove(self)\n",
        "\n",
        "\n",
        "class Pagamento:\n",
        "  def __init__(self, reserva, metodo_pagamento, status_pagamento):\n",
        "    self.reserva = reserva\n",
        "    self.metodo_pagamento = metodo_pagamento\n",
        "    self.status_pagamento = \"Pendente\"\n",
        "\n",
        "  def processar_pagamento(self):\n",
        "    metodos_aceitos = [\"Cartão de Crédito\", \"Boleto Bancário\", \"Pix\", \"Cartão de Débito\", \"Paypal\"]\n",
        "    if self.metodo_pagamento in metodos_aceitos:\n",
        "      self.status_pagamento = \"Pago\"\n",
        "      return True\n",
        "    return False"
      ]
    }
  ]
}